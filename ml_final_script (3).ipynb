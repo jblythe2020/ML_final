{
 "cells": [
  {
   "cell_type": "markdown",
   "id": "respiratory-insulation",
   "metadata": {},
   "source": [
    "**ML Final Project**\n",
    "- John Blythe and John Mekus\n",
    "- Predicting gene class based on gene sequence. Done through training an ML linear regression model, then moving to a neural network model."
   ]
  },
  {
   "cell_type": "markdown",
   "id": "historical-connectivity",
   "metadata": {},
   "source": [
    "To use pydna library go into terminal and enter: pip install pydna"
   ]
  },
  {
   "cell_type": "code",
   "execution_count": null,
   "id": "bright-territory",
   "metadata": {},
   "outputs": [],
   "source": [
    "# RUN THIS\n",
    "# creating pandas dataframe of gene sequence/class data from .txt file\n",
    "import pydna\n",
    "import numpy as np\n",
    "import pandas as pd\n",
    "from sklearn.preprocessing import OneHotEncoder\n",
    "\n",
    "gene_df = pd.read_csv('human_data.txt', sep=\"\\t\", header=None)\n",
    "gene_df.columns = ['seq','class']\n"
   ]
  },
  {
   "cell_type": "code",
   "execution_count": null,
   "id": "sized-tobago",
   "metadata": {},
   "outputs": [],
   "source": [
    "gene_df"
   ]
  },
  {
   "cell_type": "markdown",
   "id": "preceding-message",
   "metadata": {},
   "source": [
    "**Training Linear Regression Model**"
   ]
  },
  {
   "cell_type": "code",
   "execution_count": null,
   "id": "streaming-alloy",
   "metadata": {},
   "outputs": [],
   "source": [
    "# DON'T RUN\n",
    "# Attemped binary one hot encoding, still experiencing problems with variable length of x data - doesn't work\n",
    "from sklearn.linear_model import LinearRegression\n",
    "from sklearn.model_selection import train_test_split\n",
    "from sklearn.preprocessing import LabelEncoder \n",
    "x_train,x_test,y_train,y_test = train_test_split(gene_df['seq'],gene_df['class'])\n",
    "\n",
    "x_train_encoded = []\n",
    "for i in x_train:\n",
    "    seq_list = np.array(list(i))\n",
    "    encoder = LabelEncoder()\n",
    "    onehot = OneHotEncoder()\n",
    "    int_encode = encoder.fit_transform(seq_list)\n",
    "    int_encode = int_encode.reshape(len(int_encode),1)\n",
    "    onehot_encoded = onehot.fit_transform(int_encode)\n",
    "    onehot_encoded.reshape(1,-1)\n",
    "    x_train_encoded.append(onehot_encoded)\n",
    "\n",
    "x_train_encoded_clean = []\n",
    "for i in x_train_encoded:\n",
    "    if np.shape(i)[0]%2 != 0:\n",
    "        mod = i[:np.shape(i)[0]-1]\n",
    "        x_train_encoded_clean.append(mod)\n",
    "    else:\n",
    "        x_train_encoded_clean.append(i)\n",
    "        \n",
    "x_train_encoded_clean = np.array(x_train_encoded_clean)\n",
    "model = LinearRegression()\n",
    "model.fit(x_train_encoded_clean.reshape(-1,1),y_train)\n",
    "        \n",
    "        \n",
    "        \n"
   ]
  },
  {
   "cell_type": "code",
   "execution_count": null,
   "id": "governmental-blind",
   "metadata": {},
   "outputs": [],
   "source": [
    "# RUN THIS\n",
    "# batching data of the same length and training/testing on Linear Regression model - works\n",
    "from sklearn.neural_network import MLPClassifier\n",
    "from sklearn.linear_model import LinearRegression\n",
    "from sklearn.linear_model import LogisticRegression\n",
    "from sklearn.datasets import make_classification\n",
    "from sklearn.model_selection import train_test_split\n",
    "from sklearn.preprocessing import LabelEncoder \n",
    "from sklearn.metrics import mean_squared_error as mse\n",
    "\n",
    "\n",
    "x_train,x_test,y_train,y_test = train_test_split(gene_df['seq'],gene_df['class'])\n",
    "length_1038 = []\n",
    "for i in x_train:\n",
    "    if len(i) == 1038:\n",
    "        length_1038.append(i)\n",
    "x_train_encoded = []\n",
    "for i in length_1038:\n",
    "    seq_list = np.array(list(i))\n",
    "    encoder = LabelEncoder()\n",
    "    int_encode = encoder.fit_transform(seq_list)\n",
    "    x_train_encoded.append(int_encode)\n",
    "\n",
    "x_train_encoded = np.array(x_train_encoded)\n",
    "\n",
    "test_1038 = []\n",
    "for i in x_test:\n",
    "    if len(i) == 1038:\n",
    "        test_1038.append(i)\n",
    "test_encoded = []\n",
    "for i in test_1038:\n",
    "    seq_list = np.array(list(i))\n",
    "    encoder = LabelEncoder()\n",
    "    int_encode = encoder.fit_transform(seq_list)\n",
    "    test_encoded.append(int_encode)\n",
    "\n",
    "model = LinearRegression()\n",
    "lr = model.fit(x_train_encoded,y_train[0:len(x_train_encoded)])\n",
    "error = mse(model.predict(test_encoded),y_test[0:len(test_encoded)])\n",
    "print(error)\n",
    "#clf.predict_proba(X_test[:1])\n",
    "#clf.predict(X_test)\n"
   ]
  },
  {
   "cell_type": "code",
   "execution_count": null,
   "id": "appointed-plaza",
   "metadata": {},
   "outputs": [],
   "source": [
    "# DON'T RUN THIS\n",
    "# using standard scaler on dataset - doesn't work\n",
    "from sklearn.linear_model import Ridge\n",
    "from sklearn.preprocessing import StandardScaler\n",
    "from sklearn.decomposition import PCA\n",
    "from sklearn.model_selection import GridSearchCV\n",
    "\n",
    "x_train,x_test,y_train,y_test = train_test_split(gene_df['seq'],gene_df['class'])\n",
    "scaler = StandardScaler()\n",
    "x_train_encoded = []\n",
    "for i in x_train:\n",
    "    seq_list = np.array(list(i))\n",
    "    encoder = LabelEncoder()\n",
    "    int_encode = encoder.fit_transform(seq_list)\n",
    "    x_train_encoded.append(int_encode)\n",
    "\n",
    "x_train_encoded = np.array(x_train_encoded)\n",
    "x_train_scaled = scaler.fit(x_train_encoded)\n",
    "x_train_scaled = scaler.transfor(x_train_scaled)\n",
    "\n",
    "test_encoded = []\n",
    "for i in x_test:\n",
    "    seq_list = np.array(list(i))\n",
    "    encoder = LabelEncoder()\n",
    "    int_encode = encoder.fit_transform(seq_list)\n",
    "    test_encoded.append(int_encode)\n",
    "\n",
    "test_encoded = np.array(test_encoded)\n",
    "test_scaled = scaler.fit(test_encoded)\n",
    "test_scaled = scaler.transfor(test_scaled)\n",
    "\n",
    "model = LogisticRegression()\n",
    "lr = model.fit(x_train_scaled,y_train[0:len(x_train_scaled)])\n",
    "error = mse(model.predict(test_scaled),y_test[0:len(test_scaled)])\n",
    "print(error)\n",
    "#clf.predict_proba(X_test[:1])\n",
    "#clf.predict(X_test)\n",
    "\n",
    "\n"
   ]
  },
  {
   "cell_type": "code",
   "execution_count": null,
   "id": "bridal-institute",
   "metadata": {},
   "outputs": [],
   "source": [
    "# prints dictionary of length frequencies in dataset\n",
    "# used to determine sequence lengths to use when manually batching dataset into arrays of the same length\n",
    "# for linear regression model\n",
    "import collections\n",
    "y = collections.Counter()\n",
    "x_train,x_test,y_train,y_test = train_test_split(gene_df['seq'],gene_df['class'])\n",
    "same_length = []\n",
    "for i in x_test:\n",
    "    same_length.append(len(i))\n",
    "    \n",
    "y = collections.Counter(same_length)\n",
    "print(y)\n",
    "\n"
   ]
  },
  {
   "cell_type": "markdown",
   "id": "rental-material",
   "metadata": {},
   "source": [
    "**Implementing Kernel Method and SVC Multiclass Classifier**"
   ]
  },
  {
   "cell_type": "code",
   "execution_count": null,
   "id": "entitled-cincinnati",
   "metadata": {},
   "outputs": [],
   "source": [
    "# RUN THIS\n",
    "# SVC multiclassifier without encoding using string kernel\n",
    "# Ran a for loop that increased polynomial degree on each iteration, showed no change in mse, so it was not included\n",
    "import numpy as np\n",
    "from sklearn.svm import SVC\n",
    "from sklearn.model_selection import train_test_split\n",
    "from sklearn import svm\n",
    "from stringkernels.kernels import string_kernel\n",
    "from sklearn.metrics import mean_squared_error as mse\n",
    "\n",
    "x_train,x_test,y_train,y_test = train_test_split(gene_df['seq'],gene_df['class'])\n",
    "svm_sk_model = svm.SVC(gamma = 'auto',degree=2, kernel=string_kernel())\n",
    "svm_sk_model.fit(x_train, y_train)\n",
    "error = mse(svm_sk_model.predict(x_test),y_test)\n",
    "print(error)\n"
   ]
  }
 ],
 "metadata": {
  "kernelspec": {
   "display_name": "Python 3",
   "language": "python",
   "name": "python3"
  },
  "language_info": {
   "codemirror_mode": {
    "name": "ipython",
    "version": 3
   },
   "file_extension": ".py",
   "mimetype": "text/x-python",
   "name": "python",
   "nbconvert_exporter": "python",
   "pygments_lexer": "ipython3",
   "version": "3.8.6"
  }
 },
 "nbformat": 4,
 "nbformat_minor": 5
}
